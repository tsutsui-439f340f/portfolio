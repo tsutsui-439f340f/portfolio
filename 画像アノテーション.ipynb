{
 "cells": [
  {
   "cell_type": "code",
   "execution_count": 2,
   "metadata": {},
   "outputs": [],
   "source": [
    "import cv2\n",
    "import numpy as np \n",
    "import os\n",
    "import os.path as path\n",
    "import json"
   ]
  },
  {
   "cell_type": "markdown",
   "metadata": {},
   "source": [
    "### 関数定義"
   ]
  },
  {
   "cell_type": "code",
   "execution_count": 3,
   "metadata": {},
   "outputs": [],
   "source": [
    "def show(img):\n",
    "    cv2.imshow(\"image\",img)\n",
    "    cv2.waitKey(0)\n",
    "    cv2.destroyAllWindows()"
   ]
  },
  {
   "cell_type": "code",
   "execution_count": 4,
   "metadata": {},
   "outputs": [],
   "source": [
    "def onMouse(event, x, y, flags, params):\n",
    "    if event == cv2.EVENT_LBUTTONDOWN:\n",
    "        \n",
    "        e=[\"face_first\",\"face_last\",\"body_first\",\"body_last\",\"right_hand_first\",\"right_hand_last\",\"left_hand_first\",\"left_hand_last\"]\n",
    "        if pt[0]>=len(e):\n",
    "            raise IndexError(\"インデックスエラー\")\n",
    "        else:\n",
    "            print(\"{} x={},y={}\".format(e[pt[0]],x,y))\n",
    "            points[pt[0]] = [x,y]\n",
    "            pt[0] += 1\n",
    "            \n",
    "    if event == cv2.EVENT_RBUTTONDOWN:\n",
    "        pt[0] += 2"
   ]
  },
  {
   "cell_type": "markdown",
   "metadata": {},
   "source": [
    "### パスの接続"
   ]
  },
  {
   "cell_type": "code",
   "execution_count": 5,
   "metadata": {},
   "outputs": [],
   "source": [
    "imgs_dir=\"E:Twitter_img/datasets/\"\n",
    "files = os.listdir(imgs_dir+\"imgs\")"
   ]
  },
  {
   "cell_type": "code",
   "execution_count": 6,
   "metadata": {},
   "outputs": [],
   "source": [
    "files_file = [path.join(imgs_dir+\"imgs\",f) for f in files if os.path.isfile(os.path.join(imgs_dir+\"imgs\", f))]"
   ]
  },
  {
   "cell_type": "code",
   "execution_count": 7,
   "metadata": {},
   "outputs": [
    {
     "name": "stdout",
     "output_type": "stream",
     "text": [
      "face_first x=640,y=43\n",
      "face_last x=1034,y=699\n",
      "body_first x=239,y=444\n",
      "body_last x=831,y=1408\n",
      "right_hand_first x=139,y=506\n",
      "right_hand_last x=537,y=817\n",
      "left_hand_first x=1083,y=559\n",
      "left_hand_last x=1328,y=951\n",
      "--------------------\n",
      "face_first x=529,y=11\n",
      "face_last x=846,y=581\n",
      "body_first x=411,y=421\n",
      "body_last x=859,y=1061\n",
      "left_hand_first x=861,y=465\n",
      "left_hand_last x=961,y=736\n",
      "--------------------\n",
      "face_first x=194,y=61\n",
      "face_last x=1028,y=853\n",
      "body_first x=403,y=771\n",
      "body_last x=1068,y=1846\n",
      "right_hand_first x=53,y=273\n",
      "right_hand_last x=332,y=648\n",
      "left_hand_first x=1045,y=515\n",
      "left_hand_last x=1431,y=904\n",
      "--------------------\n"
     ]
    }
   ],
   "source": [
    "data_num=10\n",
    "element=[\"face\",\"body\",\"right_hand\",\"left_hand\"]\n",
    "total={}\n",
    "\n",
    "#先頭のｎ個処理\n",
    "n=3\n",
    "for k in range(n):\n",
    "    \n",
    "    points = np.zeros([data_num,2],dtype=int)\n",
    "    pt = np.array([0,0])\n",
    "    \n",
    "    data=dict()\n",
    "    b=[]\n",
    "    idx=0\n",
    "    \n",
    "    img=cv2.imread(files_file[k])\n",
    "    cv2.namedWindow(\"window\", cv2.WINDOW_KEEPRATIO)\n",
    "    cv2.setMouseCallback(\"window\", onMouse)\n",
    "\n",
    "\n",
    "    while True:\n",
    "\n",
    "        cv2.imshow(\"window\", img)\n",
    "        if cv2.waitKey(1) & 0xFF == ord(\"q\"):\n",
    "            print(\"-\"*20)\n",
    "            break\n",
    "    cv2.destroyAllWindows()\n",
    "\n",
    "    \n",
    "    for i,j in enumerate(points):\n",
    "        if i%2==0 and i!=0:\n",
    "            data[element[idx]]=str(b)\n",
    "            b=[]\n",
    "            idx+=1\n",
    "    \n",
    "        b.append(list(j))\n",
    "    \n",
    "    total[files_file[k]]=data"
   ]
  },
  {
   "cell_type": "code",
   "execution_count": 8,
   "metadata": {},
   "outputs": [
    {
     "data": {
      "text/plain": [
       "{'E:Twitter_img/datasets/imgs\\\\20200509_144107.jpg': {'face': '[[640, 43], [1034, 699]]',\n",
       "  'body': '[[239, 444], [831, 1408]]',\n",
       "  'right_hand': '[[139, 506], [537, 817]]',\n",
       "  'left_hand': '[[1083, 559], [1328, 951]]'},\n",
       " 'E:Twitter_img/datasets/imgs\\\\20200510_093743.jpg': {'face': '[[529, 11], [846, 581]]',\n",
       "  'body': '[[411, 421], [859, 1061]]',\n",
       "  'right_hand': '[[0, 0], [0, 0]]',\n",
       "  'left_hand': '[[861, 465], [961, 736]]'},\n",
       " 'E:Twitter_img/datasets/imgs\\\\20200514_213018.jpg': {'face': '[[194, 61], [1028, 853]]',\n",
       "  'body': '[[403, 771], [1068, 1846]]',\n",
       "  'right_hand': '[[53, 273], [332, 648]]',\n",
       "  'left_hand': '[[1045, 515], [1431, 904]]'}}"
      ]
     },
     "execution_count": 8,
     "metadata": {},
     "output_type": "execute_result"
    }
   ],
   "source": [
    "total"
   ]
  },
  {
   "cell_type": "code",
   "execution_count": 9,
   "metadata": {},
   "outputs": [],
   "source": [
    "data=json.dumps(total)\n",
    "with open('sample.json', 'w') as f:\n",
    "    json.dump(data, f, ensure_ascii=False)"
   ]
  }
 ],
 "metadata": {
  "kernelspec": {
   "display_name": "Python 3",
   "language": "python",
   "name": "python3"
  },
  "language_info": {
   "codemirror_mode": {
    "name": "ipython",
    "version": 3
   },
   "file_extension": ".py",
   "mimetype": "text/x-python",
   "name": "python",
   "nbconvert_exporter": "python",
   "pygments_lexer": "ipython3",
   "version": "3.6.6"
  }
 },
 "nbformat": 4,
 "nbformat_minor": 2
}
